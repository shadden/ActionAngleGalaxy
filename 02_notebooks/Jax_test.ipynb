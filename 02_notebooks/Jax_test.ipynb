{
 "cells": [
  {
   "cell_type": "code",
   "execution_count": 1,
   "id": "8898e77f-6b30-4021-aac1-38f394b77b85",
   "metadata": {},
   "outputs": [],
   "source": [
    "import jax\n",
    "import jax.numpy as jnp"
   ]
  },
  {
   "cell_type": "code",
   "execution_count": null,
   "id": "14ea2b73-af38-44f1-9a0b-2ae316dc8a63",
   "metadata": {},
   "outputs": [],
   "source": [
    "def create_tuple(n, m):\n",
    "    \"\"\"\n",
    "    Create a tuple with n zeros followed by m ones.\n",
    "\n",
    "    Parameters:\n",
    "    n (int): The number of zeros.\n",
    "    m (int): The number of ones.\n",
    "\n",
    "    Returns:\n",
    "    tuple: A tuple containing n zeros followed by m ones.\n",
    "    \"\"\"\n",
    "    # Create the tuple using tuple concatenation\n",
    "    return (0,) * n + (1,) * m\n",
    "\n",
    "# Example usage\n",
    "create_tuple(3, 4)\n",
    "\n",
    "\n",
    "def get_derivs(f,x0,dmax):\n",
    "    \"\"\"\n",
    "    Compute the partial derivatives of the function, `f`, of a two-dimensional input evaluated at the point `x0` up to a maximum order, `dmax`.\n",
    "    \"\"\"\n",
    "    derivs = {(0,0):f(x0)}\n",
    "    Dn_f = jax.jacrev(f)\n",
    "    Dn_f_val = Dn_f(x0)\n",
    "    derivs[(1,0)] = Dn_f_val[create_tuple(1,0)]\n",
    "    derivs[(0,1)] = Dn_f_val[create_tuple(0,1)]\n",
    "    for d in range(2,dmax+1):\n",
    "        Dn_f = jax.jacfwd(Dn_f)\n",
    "        Dn_f_val = Dn_f(x0)\n",
    "        for j in range(d+1):\n",
    "            i = d-j\n",
    "            derivs[(i,j)] = Dn_f_val[create_tuple(i,j)]\n",
    "    return derivs"
   ]
  },
  {
   "cell_type": "code",
   "execution_count": 73,
   "id": "b210e13d-224b-4856-a9f8-1526b0cc11b2",
   "metadata": {},
   "outputs": [
    {
     "data": {
      "text/plain": [
       "{(0, 0): Array(1., dtype=float32),\n",
       " (1, 0): Array(0., dtype=float32),\n",
       " (0, 1): Array(0., dtype=float32),\n",
       " (2, 0): Array(-4., dtype=float32),\n",
       " (1, 1): Array(0., dtype=float32),\n",
       " (0, 2): Array(-9., dtype=float32),\n",
       " (3, 0): Array(0., dtype=float32),\n",
       " (2, 1): Array(0., dtype=float32),\n",
       " (1, 2): Array(0., dtype=float32),\n",
       " (0, 3): Array(0., dtype=float32),\n",
       " (4, 0): Array(16., dtype=float32),\n",
       " (3, 1): Array(0., dtype=float32),\n",
       " (2, 2): Array(36., dtype=float32),\n",
       " (1, 3): Array(0., dtype=float32),\n",
       " (0, 4): Array(81., dtype=float32)}"
      ]
     },
     "execution_count": 73,
     "metadata": {},
     "output_type": "execute_result"
    }
   ],
   "source": [
    "get_derivs(f,jnp.array([0,0.]),4)"
   ]
  },
  {
   "cell_type": "code",
   "execution_count": 29,
   "id": "60a6389d-73e8-4a7c-8b9f-472384db86c9",
   "metadata": {},
   "outputs": [],
   "source": [
    "def f(x):\n",
    "    x1,x2=x\n",
    "    return jnp.cos(2*x1)*jnp.cos(3*x2)"
   ]
  },
  {
   "cell_type": "code",
   "execution_count": 34,
   "id": "9464ebba-7569-4399-a735-42f1e7066a4c",
   "metadata": {},
   "outputs": [],
   "source": [
    "D1f = jax.jacrev(f)\n",
    "D2f = jax.jacfwd(D1f)\n",
    "D3f = jax.jacfwd(D2f)\n",
    "D4f = jax.jacfwd(D3f)"
   ]
  },
  {
   "cell_type": "code",
   "execution_count": 36,
   "id": "59a32ff3-1769-4ff6-995a-3556d352fa3d",
   "metadata": {},
   "outputs": [
    {
     "name": "stdout",
     "output_type": "stream",
     "text": [
      "[0. 0.]\n",
      "[[-4.  0.]\n",
      " [ 0. -9.]]\n",
      "[[[[16.  0.]\n",
      "   [ 0. 36.]]\n",
      "\n",
      "  [[ 0. 36.]\n",
      "   [36.  0.]]]\n",
      "\n",
      "\n",
      " [[[ 0. 36.]\n",
      "   [36.  0.]]\n",
      "\n",
      "  [[36.  0.]\n",
      "   [ 0. 81.]]]]\n"
     ]
    }
   ],
   "source": [
    "x0 = jnp.asarray([0,0.])\n",
    "print(D1f(x0))\n",
    "print(D2f(x0))\n",
    "print(D4f(x0))"
   ]
  },
  {
   "cell_type": "code",
   "execution_count": 46,
   "id": "58bff366-a0f9-402e-b705-7865d90d7791",
   "metadata": {},
   "outputs": [
    {
     "data": {
      "text/plain": [
       "Array(81., dtype=float32)"
      ]
     },
     "execution_count": 46,
     "metadata": {},
     "output_type": "execute_result"
    }
   ],
   "source": [
    "d4[1,1,1,1]"
   ]
  },
  {
   "cell_type": "code",
   "execution_count": 49,
   "id": "201364fe-28aa-42c6-ae3b-58fa31cb4096",
   "metadata": {},
   "outputs": [
    {
     "data": {
      "text/plain": [
       "Array(16., dtype=float32)"
      ]
     },
     "execution_count": 49,
     "metadata": {},
     "output_type": "execute_result"
    }
   ],
   "source": [
    "d4[0,0,0,0]"
   ]
  },
  {
   "cell_type": "code",
   "execution_count": 12,
   "id": "1ee937de-34d2-4d9e-820c-f391bb12a15a",
   "metadata": {},
   "outputs": [
    {
     "data": {
      "text/plain": [
       "Array([[[ 0.     ,  0.     ,  0.     ],\n",
       "        [ 0.     ,  0.     ,  0.     ],\n",
       "        [ 0.     ,  0.     ,  0.     ]],\n",
       "\n",
       "       [[ 0.     ,  0.     ,  0.     ],\n",
       "        [ 0.     ,  0.     ,  0.     ],\n",
       "        [ 0.     ,  0.     ,  0.     ]],\n",
       "\n",
       "       [[ 0.     ,  0.     ,  0.     ],\n",
       "        [ 0.     ,  0.     ,  0.     ],\n",
       "        [ 0.     ,  0.     , -0.14112]]], dtype=float32)"
      ]
     },
     "execution_count": 12,
     "metadata": {},
     "output_type": "execute_result"
    }
   ],
   "source": [
    "jax.jacfwd(jax.jacfwd(jax.jacrev(f)))(jnp.asarray([1.,2.,3.]))"
   ]
  },
  {
   "cell_type": "code",
   "execution_count": 115,
   "id": "6082d33c-4fca-41ae-9bab-d2639a4683db",
   "metadata": {},
   "outputs": [
    {
     "data": {
      "text/plain": [
       "Array(1, dtype=int32, weak_type=True)"
      ]
     },
     "execution_count": 115,
     "metadata": {},
     "output_type": "execute_result"
    }
   ],
   "source": [
    "jnp.asarray(1)"
   ]
  },
  {
   "cell_type": "code",
   "execution_count": 116,
   "id": "efd8a20f-3999-4af2-905e-1ba15b13b786",
   "metadata": {},
   "outputs": [
    {
     "ename": "TypeError",
     "evalue": "jvp() missing 2 required positional arguments: 'primals' and 'tangents'",
     "output_type": "error",
     "traceback": [
      "\u001b[0;31m---------------------------------------------------------------------------\u001b[0m",
      "\u001b[0;31mTypeError\u001b[0m                                 Traceback (most recent call last)",
      "Cell \u001b[0;32mIn[116], line 1\u001b[0m\n\u001b[0;32m----> 1\u001b[0m jax\u001b[38;5;241m.\u001b[39mjvp(f)(jnp\u001b[38;5;241m.\u001b[39masarray([\u001b[38;5;241m1\u001b[39m,\u001b[38;5;241m2\u001b[39m,\u001b[38;5;241m3\u001b[39m]),jnp\u001b[38;5;241m.\u001b[39masarray(\u001b[38;5;241m1.\u001b[39m))\n",
      "\u001b[0;31mTypeError\u001b[0m: jvp() missing 2 required positional arguments: 'primals' and 'tangents'"
     ]
    }
   ],
   "source": [
    "jax.jvp(f)(jnp.asarray([1,2,3]),jnp.asarray(1.))"
   ]
  },
  {
   "cell_type": "code",
   "execution_count": 109,
   "id": "74afc0b5-e3c6-4934-9676-0fc0b386a96a",
   "metadata": {},
   "outputs": [],
   "source": [
    "def Gfn(x,e):\n",
    "    return -1 * (x/e) * jnp.arctan(e * x / jnp.sqrt(1-e*e))\n",
    "    \n",
    "def Potential_uv(u,v,e):\n",
    "    coshu = jnp.cosh(u)\n",
    "    cosv = jnp.cos(v)\n",
    "    sinhu = jnp.sinh(u)\n",
    "    sinv = jnp.sin(v)\n",
    "    U = -1 * coshu * jnp.arctan(e*coshu/jnp.sqrt(1-e*e))/e\n",
    "    V = -1 * cosv * jnp.arctan(e*cosv/jnp.sqrt(1-e*e))/e\n",
    "    Phi = (U-V)/(sinv*sinv + sinhu*sinhu)\n",
    "    return Phi\n",
    "    \n",
    "def Potential_lm(l,m,e):\n",
    "    bsq = 1 - e*e\n",
    "    Fl = jnp.sqrt(l-bsq)  * jnp.arccos(jnp.sqrt(bsq/l))\n",
    "    Fm = jnp.sqrt(m-bsq)  * jnp.arccos(jnp.sqrt(bsq/m))\n",
    "    return -1*(Fl-Fm)/(l-m)\n",
    "    \n",
    "def Rz_to_lm(R,z,e):\n",
    "    Rsq_plus_zsq =(R**2 + z**2)\n",
    "    d = jnp.sqrt(e**4 + 2 * e**2 *(R**2-z**2) + Rsq_plus_zsq**2)\n",
    "    lmbda = 1 - e*e/2 + Rsq_plus_zsq/2 + d/2\n",
    "    mu = 1 - e*e/2 + Rsq_plus_zsq/2 - d/2\n",
    "    return lmbda,mu\n",
    "    \n",
    "def Rz_to_uv(R,z,e):\n",
    "    Rsq_plus_zsq =(R**2 + z**2)\n",
    "    d = jnp.sqrt(e**4 + 2 * e**2 *(R**2-z**2) + Rsq_plus_zsq**2)\n",
    "    lmbda = 1 - e*e/2 + Rsq_plus_zsq/2 + d/2\n",
    "    mu = 1 - e*e/2 + Rsq_plus_zsq/2 - d/2\n",
    "    u_of_Rz = jnp.arcsinh(jnp.sqrt((lmbda-1))/e)\n",
    "    v_of_Rz = jnp.arcsin(jnp.sqrt((1-mu))/e)\n",
    "    return u_of_Rz,v_of_Rz\n",
    "\n",
    "def Potential_Rz(R,z,e):\n",
    "    u,v = Rz_to_uv(R,z,e)\n",
    "    return Potential_uv(u,v,e)\n",
    "    \n",
    "def Potential_Rz_alt(R,z,e,eps = 0.001):\n",
    "    l,m = Rz_to_lm(R,z,e)\n",
    "    return Potential_lm(l,m+eps,e)"
   ]
  },
  {
   "cell_type": "code",
   "execution_count": 110,
   "id": "6dc88145-c3cf-4bb3-9cef-78c51b9e423e",
   "metadata": {},
   "outputs": [],
   "source": [
    "RR,ZZ = jnp.meshgrid(jnp.linspace(0,3),jnp.linspace(-2,2))\n",
    "NPhi=Potential_Rz(RR,ZZ,0.5)\n",
    "NPhi2=Potential_Rz_alt(RR,ZZ,0.5)"
   ]
  },
  {
   "cell_type": "code",
   "execution_count": 111,
   "id": "232c5f4e-ea03-42b2-af1c-f66ab1c46b86",
   "metadata": {},
   "outputs": [],
   "source": [
    "dPhi_alt_dR = jax.grad(Potential_Rz_alt)"
   ]
  },
  {
   "cell_type": "code",
   "execution_count": 112,
   "id": "2e0246f0-0b77-45d4-8813-af2b6ab485be",
   "metadata": {},
   "outputs": [
    {
     "data": {
      "text/plain": [
       "Array(0.30578738, dtype=float32, weak_type=True)"
      ]
     },
     "execution_count": 112,
     "metadata": {},
     "output_type": "execute_result"
    }
   ],
   "source": [
    "dPhi_alt_dR(1.,0,0.5)"
   ]
  },
  {
   "cell_type": "code",
   "execution_count": 99,
   "id": "7efe9967-0d70-4252-8ec8-3334b8eb6316",
   "metadata": {},
   "outputs": [],
   "source": [
    "dPhi_dR = jax.grad(Potential_Rz)\n",
    "dPhi_dz = jax.grad(Potential_Rz,argnums=1)"
   ]
  },
  {
   "cell_type": "code",
   "execution_count": 88,
   "id": "bcd1a6a6-a342-40b7-bb10-5d90d3ed630f",
   "metadata": {},
   "outputs": [
    {
     "data": {
      "text/plain": [
       "Array(0.3059763, dtype=float32, weak_type=True)"
      ]
     },
     "execution_count": 88,
     "metadata": {},
     "output_type": "execute_result"
    }
   ],
   "source": [
    "dPhi_dR(1.,.5e-3,0.5)"
   ]
  },
  {
   "cell_type": "code",
   "execution_count": 89,
   "id": "5c230931-b390-412c-ab07-545f35a5f1a8",
   "metadata": {},
   "outputs": [
    {
     "data": {
      "text/plain": [
       "Array(0.00017666, dtype=float32, weak_type=True)"
      ]
     },
     "execution_count": 89,
     "metadata": {},
     "output_type": "execute_result"
    }
   ],
   "source": [
    "dPhi_dz(1.,0.5e-3,0.5)"
   ]
  },
  {
   "cell_type": "code",
   "execution_count": 75,
   "id": "5756e49e-cd2c-48e5-927b-ed9499d92354",
   "metadata": {},
   "outputs": [
    {
     "data": {
      "text/plain": [
       "(Array(2., dtype=float32, weak_type=True),\n",
       " Array(0.4375, dtype=float32, weak_type=True))"
      ]
     },
     "execution_count": 75,
     "metadata": {},
     "output_type": "execute_result"
    }
   ],
   "source": [
    "Rz_to_lm(1.,0,0.75)"
   ]
  },
  {
   "cell_type": "code",
   "execution_count": null,
   "id": "e3e4b4ee-2a06-40d8-b45b-39f63faf6138",
   "metadata": {},
   "outputs": [],
   "source": []
  }
 ],
 "metadata": {
  "kernelspec": {
   "display_name": "Python 3 (ipykernel)",
   "language": "python",
   "name": "python3"
  },
  "language_info": {
   "codemirror_mode": {
    "name": "ipython",
    "version": 3
   },
   "file_extension": ".py",
   "mimetype": "text/x-python",
   "name": "python",
   "nbconvert_exporter": "python",
   "pygments_lexer": "ipython3",
   "version": "3.11.7"
  }
 },
 "nbformat": 4,
 "nbformat_minor": 5
}
