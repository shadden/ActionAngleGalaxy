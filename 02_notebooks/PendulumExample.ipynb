{
 "cells": [
  {
   "cell_type": "code",
   "execution_count": 1,
   "id": "8cf7694c",
   "metadata": {},
   "outputs": [],
   "source": [
    "import sympy as sp\n",
    "import numpy as np"
   ]
  },
  {
   "cell_type": "code",
   "execution_count": 6,
   "id": "dc67d5b6",
   "metadata": {},
   "outputs": [],
   "source": [
    "h = p*p/sp.S(2) - omega0*omega0 * sp.cos(theta)"
   ]
  },
  {
   "cell_type": "code",
   "execution_count": 3,
   "id": "a547eafd",
   "metadata": {},
   "outputs": [],
   "source": [
    "p,theta = sp.symbols(\"p,theta\",real=True)\n",
    "omega0 = sp.symbols(\"omega0\",positive=True)\n",
    "x,xbar = sp.symbols(\"x,xbar\")\n",
    "\n",
    "c2r_rule = sp.solve([\n",
    "    x - sp.sqrt(omega0/2)*(theta + sp.I * p/omega0),\n",
    "    xbar - sp.sqrt(omega0/2)*(theta - sp.I * p/omega0)\n",
    "],[theta,p])"
   ]
  },
  {
   "cell_type": "code",
   "execution_count": 11,
   "id": "3562b47e",
   "metadata": {},
   "outputs": [
    {
     "data": {
      "text/latex": [
       "$\\displaystyle - \\omega_{0}^{2} \\cos{\\left(\\frac{\\sqrt{2} x}{2 \\sqrt{\\omega_{0}}} + \\frac{\\sqrt{2} \\bar{x}}{2 \\sqrt{\\omega_{0}}} \\right)} + \\frac{\\left(- \\frac{\\sqrt{2} i \\sqrt{\\omega_{0}} x}{2} + \\frac{\\sqrt{2} i \\sqrt{\\omega_{0}} \\bar{x}}{2}\\right)^{2}}{2}$"
      ],
      "text/plain": [
       "-omega0**2*cos(sqrt(2)*x/(2*sqrt(omega0)) + sqrt(2)*xbar/(2*sqrt(omega0))) + (-sqrt(2)*I*sqrt(omega0)*x/2 + sqrt(2)*I*sqrt(omega0)*xbar/2)**2/2"
      ]
     },
     "execution_count": 11,
     "metadata": {},
     "output_type": "execute_result"
    }
   ],
   "source": [
    "h.xreplace(c2r_rule)"
   ]
  },
  {
   "cell_type": "code",
   "execution_count": null,
   "id": "aed07400",
   "metadata": {},
   "outputs": [],
   "source": []
  }
 ],
 "metadata": {
  "kernelspec": {
   "display_name": "Python 3 (ipykernel)",
   "language": "python",
   "name": "python3"
  },
  "language_info": {
   "codemirror_mode": {
    "name": "ipython",
    "version": 3
   },
   "file_extension": ".py",
   "mimetype": "text/x-python",
   "name": "python",
   "nbconvert_exporter": "python",
   "pygments_lexer": "ipython3",
   "version": "3.11.3"
  }
 },
 "nbformat": 4,
 "nbformat_minor": 5
}
